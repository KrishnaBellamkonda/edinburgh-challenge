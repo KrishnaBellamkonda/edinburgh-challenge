{
 "cells": [
  {
   "cell_type": "markdown",
   "metadata": {},
   "source": [
    "# Input"
   ]
  },
  {
   "cell_type": "code",
   "execution_count": 2,
   "metadata": {},
   "outputs": [],
   "source": [
    "# Imports\n",
    "import matplotlib.pyplot as plt\n",
    "import osmnx as ox\n",
    "\n",
    "import heapq\n",
    "import numpy as np\n",
    "import pandas as pd\n",
    "import seaborn as sns\n",
    "import matplotlib.pyplot as plt\n",
    "from collections import defaultdict\n",
    "from math import floor, ceil, inf\n",
    "from dataclasses import asdict\n",
    "\n",
    "from edinburgh_challenge.constants import police_stations, police_stations_dict\n",
    "from edinburgh_challenge.utility import generate_early_shift_distributions\n",
    "from edinburgh_challenge.models import NaiveModel, GreedyModel, EnhancedModel, SimplifiedModelNotBest, SimplifiedModel\n",
    "from edinburgh_challenge.simulation import *\n",
    "from edinburgh_challenge.processing import calculate_metric, calculate_simulation_performance"
   ]
  },
  {
   "cell_type": "code",
   "execution_count": 3,
   "metadata": {},
   "outputs": [],
   "source": [
    "source = \"./data.xlsx\"\n",
    "data = pd.read_excel(source)\n",
    "data[\"Time\"] = (data[\"Day\"]-1)*24 + data[\"Hour\"]\n",
    "data.columns = [x.lower() for x in data.columns]"
   ]
  },
  {
   "cell_type": "code",
   "execution_count": 4,
   "metadata": {},
   "outputs": [],
   "source": [
    "ps = [[f'PS_{i}', p.x, p.y] for i,p in \n",
    "      enumerate([police_stations.one, \n",
    "                 police_stations.two, \n",
    "                 police_stations.three])]\n",
    "df_ps = pd.DataFrame(ps, columns=[\"Name\",\"Latitude\", \"Longitude\"])"
   ]
  },
  {
   "cell_type": "markdown",
   "metadata": {},
   "source": [
    "# Running the best Model"
   ]
  },
  {
   "cell_type": "code",
   "execution_count": 5,
   "metadata": {},
   "outputs": [],
   "source": [
    "# Running the best model\n",
    "shift_distribution = {'Early': {'Station_1': 0, 'Station_2': 5, 'Station_3': 10},\n",
    "  'Day': {'Station_1': 2, 'Station_2': 19, 'Station_3': 4},\n",
    "  'Night': {'Station_1': 9, 'Station_2': 3, 'Station_3': 28}\n",
    "}\n",
    "\n",
    "ps_coords = [ (p.x, p.y) for p in \n",
    "                [police_stations.one, \n",
    "                 police_stations.two, \n",
    "                 police_stations.three]]\n",
    "\n",
    "simulation = SimulationWithMaxUtilisation(data, ps_coords, shift_distribution, \n",
    "                        verbose=0)\n",
    "\n",
    "\n",
    "\n",
    "greedy_model = GreedyModel(shift_distribution, police_stations_dict)"
   ]
  },
  {
   "cell_type": "code",
   "execution_count": 6,
   "metadata": {},
   "outputs": [
    {
     "name": "stdout",
     "output_type": "stream",
     "text": [
      "Performance: 0.9973702067085207\n"
     ]
    }
   ],
   "source": [
    "simulation.run(greedy_model)\n",
    "print(f\"Performance: {calculate_simulation_performance(simulation.analyze_simulation_results())}\")"
   ]
  },
  {
   "cell_type": "markdown",
   "metadata": {},
   "source": [
    "# Proofs"
   ]
  },
  {
   "cell_type": "code",
   "execution_count": 7,
   "metadata": {},
   "outputs": [
    {
     "data": {
      "text/plain": [
       "{'Completion Percentages': {'Immediate': 100.0,\n",
       "  'Prompt': 100.0,\n",
       "  'Standard': 100.0},\n",
       " 'Mean Response Times': {'Immediate': 88.36074011402184,\n",
       "  'Prompt': 84.70247039510707,\n",
       "  'Standard': 88.49373834489559},\n",
       " 'Mean Deployment Times': {'Immediate': 1.5403225806451613,\n",
       "  'Prompt': 1.5061196105702366,\n",
       "  'Standard': 1.4796755725190842},\n",
       " 'Threshold Compliance': {'Immediate': 100.0,\n",
       "  'Prompt': 99.58275382475661,\n",
       "  'Standard': 99.23664122137404},\n",
       " 'Mean Officer Hours': 56.9543844529505,\n",
       " 'Unresolved Incident Percentage': 0.0}"
      ]
     },
     "execution_count": 7,
     "metadata": {},
     "output_type": "execute_result"
    }
   ],
   "source": [
    "simulation.analyze_simulation_results()"
   ]
  },
  {
   "cell_type": "markdown",
   "metadata": {},
   "source": [
    "# Proof that an officer was sent to each incident"
   ]
  },
  {
   "cell_type": "code",
   "execution_count": 8,
   "metadata": {},
   "outputs": [
    {
     "data": {
      "text/html": [
       "<div>\n",
       "<style scoped>\n",
       "    .dataframe tbody tr th:only-of-type {\n",
       "        vertical-align: middle;\n",
       "    }\n",
       "\n",
       "    .dataframe tbody tr th {\n",
       "        vertical-align: top;\n",
       "    }\n",
       "\n",
       "    .dataframe thead th {\n",
       "        text-align: right;\n",
       "    }\n",
       "</style>\n",
       "<table border=\"1\" class=\"dataframe\">\n",
       "  <thead>\n",
       "    <tr style=\"text-align: right;\">\n",
       "      <th></th>\n",
       "      <th>urn</th>\n",
       "      <th>day</th>\n",
       "      <th>hour</th>\n",
       "      <th>priority</th>\n",
       "      <th>resolving_officer</th>\n",
       "      <th>response_time</th>\n",
       "    </tr>\n",
       "  </thead>\n",
       "  <tbody>\n",
       "    <tr>\n",
       "      <th>0</th>\n",
       "      <td>PS-20220706-0009</td>\n",
       "      <td>1</td>\n",
       "      <td>0</td>\n",
       "      <td>Prompt</td>\n",
       "      <td>Officer_Station_2_Early_3</td>\n",
       "      <td>0.318837</td>\n",
       "    </tr>\n",
       "    <tr>\n",
       "      <th>1</th>\n",
       "      <td>PS-20220706-0021</td>\n",
       "      <td>1</td>\n",
       "      <td>0</td>\n",
       "      <td>Prompt</td>\n",
       "      <td>Officer_Station_3_Early_1</td>\n",
       "      <td>0.200332</td>\n",
       "    </tr>\n",
       "    <tr>\n",
       "      <th>2</th>\n",
       "      <td>PS-20220706-0028</td>\n",
       "      <td>1</td>\n",
       "      <td>0</td>\n",
       "      <td>Prompt</td>\n",
       "      <td>Officer_Station_3_Early_0</td>\n",
       "      <td>1.155379</td>\n",
       "    </tr>\n",
       "    <tr>\n",
       "      <th>3</th>\n",
       "      <td>PS-20220706-0035</td>\n",
       "      <td>1</td>\n",
       "      <td>0</td>\n",
       "      <td>Prompt</td>\n",
       "      <td>Officer_Station_3_Early_0</td>\n",
       "      <td>0.215088</td>\n",
       "    </tr>\n",
       "    <tr>\n",
       "      <th>4</th>\n",
       "      <td>PS-20220706-0043</td>\n",
       "      <td>1</td>\n",
       "      <td>0</td>\n",
       "      <td>Prompt</td>\n",
       "      <td>Officer_Station_2_Early_3</td>\n",
       "      <td>1.061780</td>\n",
       "    </tr>\n",
       "    <tr>\n",
       "      <th>...</th>\n",
       "      <td>...</td>\n",
       "      <td>...</td>\n",
       "      <td>...</td>\n",
       "      <td>...</td>\n",
       "      <td>...</td>\n",
       "      <td>...</td>\n",
       "    </tr>\n",
       "    <tr>\n",
       "      <th>2267</th>\n",
       "      <td>PS-20220715-3261</td>\n",
       "      <td>7</td>\n",
       "      <td>23</td>\n",
       "      <td>Prompt</td>\n",
       "      <td>Officer_Station_3_Night_17</td>\n",
       "      <td>167.093501</td>\n",
       "    </tr>\n",
       "    <tr>\n",
       "      <th>2268</th>\n",
       "      <td>PS-20220715-3270</td>\n",
       "      <td>7</td>\n",
       "      <td>23</td>\n",
       "      <td>Immediate</td>\n",
       "      <td>Officer_Station_1_Night_1</td>\n",
       "      <td>167.156019</td>\n",
       "    </tr>\n",
       "    <tr>\n",
       "      <th>2269</th>\n",
       "      <td>PS-20220715-3276</td>\n",
       "      <td>7</td>\n",
       "      <td>23</td>\n",
       "      <td>Prompt</td>\n",
       "      <td>Officer_Station_3_Night_3</td>\n",
       "      <td>167.175542</td>\n",
       "    </tr>\n",
       "    <tr>\n",
       "      <th>2270</th>\n",
       "      <td>PS-20220715-3279</td>\n",
       "      <td>7</td>\n",
       "      <td>23</td>\n",
       "      <td>Immediate</td>\n",
       "      <td>Officer_Station_1_Night_2</td>\n",
       "      <td>167.094645</td>\n",
       "    </tr>\n",
       "    <tr>\n",
       "      <th>2271</th>\n",
       "      <td>PS-20220715-3304</td>\n",
       "      <td>7</td>\n",
       "      <td>23</td>\n",
       "      <td>Prompt</td>\n",
       "      <td>Officer_Station_3_Night_19</td>\n",
       "      <td>167.058108</td>\n",
       "    </tr>\n",
       "  </tbody>\n",
       "</table>\n",
       "<p>2272 rows × 6 columns</p>\n",
       "</div>"
      ],
      "text/plain": [
       "                   urn  day  hour   priority           resolving_officer  \\\n",
       "0     PS-20220706-0009    1     0     Prompt   Officer_Station_2_Early_3   \n",
       "1     PS-20220706-0021    1     0     Prompt   Officer_Station_3_Early_1   \n",
       "2     PS-20220706-0028    1     0     Prompt   Officer_Station_3_Early_0   \n",
       "3     PS-20220706-0035    1     0     Prompt   Officer_Station_3_Early_0   \n",
       "4     PS-20220706-0043    1     0     Prompt   Officer_Station_2_Early_3   \n",
       "...                ...  ...   ...        ...                         ...   \n",
       "2267  PS-20220715-3261    7    23     Prompt  Officer_Station_3_Night_17   \n",
       "2268  PS-20220715-3270    7    23  Immediate   Officer_Station_1_Night_1   \n",
       "2269  PS-20220715-3276    7    23     Prompt   Officer_Station_3_Night_3   \n",
       "2270  PS-20220715-3279    7    23  Immediate   Officer_Station_1_Night_2   \n",
       "2271  PS-20220715-3304    7    23     Prompt  Officer_Station_3_Night_19   \n",
       "\n",
       "      response_time  \n",
       "0          0.318837  \n",
       "1          0.200332  \n",
       "2          1.155379  \n",
       "3          0.215088  \n",
       "4          1.061780  \n",
       "...             ...  \n",
       "2267     167.093501  \n",
       "2268     167.156019  \n",
       "2269     167.175542  \n",
       "2270     167.094645  \n",
       "2271     167.058108  \n",
       "\n",
       "[2272 rows x 6 columns]"
      ]
     },
     "execution_count": 8,
     "metadata": {},
     "output_type": "execute_result"
    }
   ],
   "source": [
    "cumulative_insidents = simulation.cumulative_incidents\n",
    "\n",
    "filtered_incidents = []\n",
    "for incident in cumulative_insidents:\n",
    "    filtered_incident = {\n",
    "        'urn': incident.urn,\n",
    "        'day': incident.day,\n",
    "        'hour': incident.hour,\n",
    "        'priority': incident.priority,\n",
    "        'resolving_officer': incident.resolving_officer,\n",
    "        'response_time': incident.response_time\n",
    "    }\n",
    "    filtered_incidents.append(filtered_incident)\n",
    "\n",
    "# Display the filtered incidents\n",
    "pd.DataFrame(filtered_incidents)"
   ]
  },
  {
   "cell_type": "markdown",
   "metadata": {},
   "source": [
    "# Proof that number of officers per shift was not exceeded"
   ]
  },
  {
   "cell_type": "code",
   "execution_count": 37,
   "metadata": {},
   "outputs": [
    {
     "name": "stdout",
     "output_type": "stream",
     "text": [
      "8.041905785010448 0 8.041905785010448\n"
     ]
    },
    {
     "data": {
      "text/plain": [
       "['Day 1: Early: 15, Day: 26, Night: 40',\n",
       " 'Day 2: Early: 16, Day: 27, Night: 40',\n",
       " 'Day 3: Early: 15, Day: 25, Night: 39',\n",
       " 'Day 4: Early: 15, Day: 25, Night: 40',\n",
       " 'Day 5: Early: 15, Day: 25, Night: 40',\n",
       " 'Day 6: Early: 15, Day: 26, Night: 42',\n",
       " 'Day 7: Early: 15, Day: 25, Night: 41']"
      ]
     },
     "execution_count": 37,
     "metadata": {},
     "output_type": "execute_result"
    }
   ],
   "source": [
    "# Modified script to ensure output for all seven days of the week\n",
    "from collections import defaultdict\n",
    "\n",
    "# Defining the get_shift function\n",
    "def get_shift(hour_in_day):\n",
    "    if 0 < hour_in_day <= 8:\n",
    "        return \"Early\"\n",
    "    elif 8 < hour_in_day <= 16:\n",
    "        return \"Day\"\n",
    "    else:\n",
    "        return \"Night\"\n",
    "\n",
    "# Initialize counts for all shifts for each day of the week\n",
    "officer_count_per_day_and_shift = {day: {\"Early\": set(), \"Day\": set(), \"Night\": set()} for day in range(7)}\n",
    "\n",
    "# Populate the counts based on the data\n",
    "for incident in cumulative_insidents:\n",
    "    time = incident.response_time \n",
    "    day_of_week = int(time // 24)  # Calculating the day of the week\n",
    "    hour_in_day = time % 24   # Hour within the day\n",
    "    if \"Officer_Station_3_Early_2\" in incident.resolving_officer:\n",
    "        shift = get_shift(hour_in_day)\n",
    "        if shift == \"Day\":\n",
    "            print(time, day_of_week, hour_in_day)\n",
    "\n",
    "    shift = get_shift(hour_in_day)\n",
    "\n",
    "    officer_count_per_day_and_shift[day_of_week][shift].add(incident.resolving_officer)\n",
    "\n",
    "# Convert sets to counts and format the output as a string for each day\n",
    "output_strings = []\n",
    "for day in range(7):\n",
    "    shifts = officer_count_per_day_and_shift[day]\n",
    "    output_strings.append(\n",
    "        f\"Day {day + 1}: Early: {len(shifts['Early'])}, Day: {len(shifts['Day'])}, Night: {len(shifts['Night'])}\"\n",
    "    )\n",
    "\n",
    "output_strings"
   ]
  },
  {
   "cell_type": "code",
   "execution_count": 18,
   "metadata": {},
   "outputs": [
    {
     "data": {
      "text/plain": [
       "{'Officer_Station_1_Day_0',\n",
       " 'Officer_Station_1_Day_1',\n",
       " 'Officer_Station_2_Day_0',\n",
       " 'Officer_Station_2_Day_1',\n",
       " 'Officer_Station_2_Day_10',\n",
       " 'Officer_Station_2_Day_11',\n",
       " 'Officer_Station_2_Day_12',\n",
       " 'Officer_Station_2_Day_13',\n",
       " 'Officer_Station_2_Day_14',\n",
       " 'Officer_Station_2_Day_15',\n",
       " 'Officer_Station_2_Day_16',\n",
       " 'Officer_Station_2_Day_17',\n",
       " 'Officer_Station_2_Day_18',\n",
       " 'Officer_Station_2_Day_2',\n",
       " 'Officer_Station_2_Day_3',\n",
       " 'Officer_Station_2_Day_4',\n",
       " 'Officer_Station_2_Day_5',\n",
       " 'Officer_Station_2_Day_6',\n",
       " 'Officer_Station_2_Day_7',\n",
       " 'Officer_Station_2_Day_8',\n",
       " 'Officer_Station_2_Day_9',\n",
       " 'Officer_Station_3_Day_0',\n",
       " 'Officer_Station_3_Day_1',\n",
       " 'Officer_Station_3_Day_2',\n",
       " 'Officer_Station_3_Day_3',\n",
       " 'Officer_Station_3_Early_2'}"
      ]
     },
     "execution_count": 18,
     "metadata": {},
     "output_type": "execute_result"
    }
   ],
   "source": [
    "officer_count_per_day_and_shift[0][\"Day\"]"
   ]
  },
  {
   "cell_type": "markdown",
   "metadata": {},
   "source": [
    "# Time Travel"
   ]
  },
  {
   "cell_type": "markdown",
   "metadata": {},
   "source": [
    "Initialization of Officer Assignments:\n",
    "It initializes officer_assignments, a dictionary to track the incidents resolved by each officer.\n",
    "The assignments are based on shift_distribution, which presumably contains the distribution of officers across various shifts and stations.\n",
    "For each shift and station, it creates officer names in the format \"Officer_{station}_{shift}_{i}\" and initializes their assignment list as empty.\n",
    "\n",
    "Setting Up Incident Response Tracking:\n",
    "incident_response is a dictionary used to track the total number of incidents and the number of incidents resolved within a target time, categorized by their priority levels: 'Immediate', 'Prompt', and 'Standard'.\n",
    "\n",
    "Flag for Time Travel Detection:\n",
    "time_travel_occurred is a boolean flag initially set to False. It's used to detect any anomalies in incident resolution times that might suggest 'time travel' (i.e., a later incident being resolved before an earlier one).\n",
    "\n",
    "Processing Resolved Incidents:\n",
    "The method iterates over resolved_incidents from simulation.\n",
    "For each resolved incident, it performs several checks and updates:\n",
    "Officer Assignment Update: If an officer is assigned to the incident, their resolution time is added to their assignment list in officer_assignments. If the officer resolves another incident at an earlier time than a previous one, time_travel_occurred is set to True.\n",
    "Incident Response Tracking: The total count of incidents and the count of incidents resolved within the target time are updated in incident_response based on the incident's priority.\n",
    "Target Time Calculation: The target time for resolution is determined based on the priority of the incident, with different times for 'Immediate', 'Prompt', and 'Standard' categories.\n",
    "\n",
    "Calculating Percentages:\n",
    "The method concludes with a loop to calculate percentages based on the data in incident_response. However, the actual calculation isn't implemented in the provided code snippet; it appears to be cut off."
   ]
  },
  {
   "cell_type": "code",
   "execution_count": 38,
   "metadata": {},
   "outputs": [],
   "source": [
    "_, _, time_travel_occured = simulation.check_simulation()"
   ]
  },
  {
   "cell_type": "code",
   "execution_count": 39,
   "metadata": {},
   "outputs": [
    {
     "data": {
      "text/plain": [
       "False"
      ]
     },
     "execution_count": 39,
     "metadata": {},
     "output_type": "execute_result"
    }
   ],
   "source": [
    "time_travel_occured"
   ]
  }
 ],
 "metadata": {
  "kernelspec": {
   "display_name": "Python 3",
   "language": "python",
   "name": "python3"
  },
  "language_info": {
   "codemirror_mode": {
    "name": "ipython",
    "version": 3
   },
   "file_extension": ".py",
   "mimetype": "text/x-python",
   "name": "python",
   "nbconvert_exporter": "python",
   "pygments_lexer": "ipython3",
   "version": "3.11.4"
  }
 },
 "nbformat": 4,
 "nbformat_minor": 2
}
