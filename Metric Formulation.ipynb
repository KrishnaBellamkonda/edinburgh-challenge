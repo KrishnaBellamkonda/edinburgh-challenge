{
 "cells": [
  {
   "cell_type": "code",
   "execution_count": 5,
   "id": "77a512fb-677e-4269-87b7-e62a227cec78",
   "metadata": {},
   "outputs": [],
   "source": [
    "# Imports\n",
    "import numpy as np\n",
    "import pandas as pd\n",
    "\n",
    "from edinburgh_challenge.constants import police_stations\n",
    "from edinburgh_challenge.utility import generate_early_shift_distributions\n",
    "from edinburgh_challenge.models import NaiveModel\n",
    "from edinburgh_challenge.simulation import *\n",
    "from edinburgh_challenge.processing import calculate_metric"
   ]
  },
  {
   "cell_type": "code",
   "execution_count": 6,
   "id": "35e7a39f-bb90-41af-80ec-a18513361a6f",
   "metadata": {},
   "outputs": [],
   "source": [
    "source = \"./data.xlsx\"\n",
    "data = pd.read_excel(source)\n",
    "data[\"Time\"] = (data[\"Day\"]-1)*24 + data[\"Hour\"]\n",
    "data.columns = [x.lower() for x in data.columns]"
   ]
  },
  {
   "cell_type": "markdown",
   "id": "0bdc2eef-aaf1-479c-b701-cb0dc0f6fe82",
   "metadata": {},
   "source": [
    "## Formulating the metric"
   ]
  },
  {
   "cell_type": "markdown",
   "id": "c6d49c5f-da35-4e46-bd7f-61f0768182f0",
   "metadata": {},
   "source": [
    "{'Completion Percentages': {'Immediate': 100.0,\n",
    "  'Prompt': 100.0,\n",
    "  'Standard': 100.0},\n",
    " 'Mean Response Times': {'Immediate': 88.33043348830911,\n",
    "  'Prompt': 84.65961030075212,\n",
    "  'Standard': 88.37365649837112},\n",
    " 'Mean Deployment Times': {'Immediate': 1.5403225806451613,\n",
    "  'Prompt': 1.5061196105702366,\n",
    "  'Standard': 1.4796755725190842},\n",
    " 'Threshold Compliance': {'Immediate': 100.0,\n",
    "  'Prompt': 98.95688456189151,\n",
    "  'Standard': 98.09160305343512},\n",
    " 'Total Officer Hours': 4422.399999003844,\n",
    " 'Unresolved Incident Percentage': 0.0\n",
    " }"
   ]
  },
  {
   "cell_type": "code",
   "execution_count": 81,
   "id": "4527bd88-3613-4058-9b64-eeba793e9167",
   "metadata": {},
   "outputs": [],
   "source": [
    "def calculate_simulation_performance(results_dict):\n",
    "    # Information from the results analysis\n",
    "    immediate_completion_pct = results_dict[\"Completion Percentages\"][\"Immediate\"]\n",
    "    immediate_threshold_pct = results_dict[\"Threshold Compliance\"][\"Immediate\"]\n",
    "\n",
    "    prompt_completion_pct = results_dict[\"Completion Percentages\"][\"Prompt\"]\n",
    "    prompt_threshold_pct = results_dict[\"Threshold Compliance\"][\"Prompt\"]\n",
    "\n",
    "    standard_completion_pct = results_dict[\"Completion Percentages\"][\"Standard\"]\n",
    "    standard_threshold_pct = results_dict[\"Threshold Compliance\"][\"Standard\"]\n",
    "    \n",
    "    mean_officer_hours  = results_dict[\"Mean Officer Hours\"]\n",
    "\n",
    "    # Rescaling these values\n",
    "    immediate_completion_pct /= 100\n",
    "    prompt_completion_pct /= 100\n",
    "    standard_completion_pct /= 100\n",
    "\n",
    "    immediate_threshold_pct /= 100\n",
    "    prompt_threshold_pct /= 100\n",
    "    standard_threshold_pct /= 100\n",
    "\n",
    "    immediate_incompletion_pct = 1 - immediate_completion_pct\n",
    "    prompt_incompletion_pct = 1- prompt_completion_pct\n",
    "    standard_incompletion_pct = 1 - standard_completion_pct\n",
    "    \n",
    "    # Calculating the score\n",
    "\n",
    "    # First factor - Incident resolved within threshold (Scale - 0 to 1)\n",
    "    incident_within_threshold = (2*immediate_threshold_pct + 1.5*prompt_threshold_pct + 1*standard_threshold_pct)/(4.5)\n",
    "\n",
    "    # Second factor - Officer utilisation\n",
    "    # 8 hours per shift, 7 days in the simulation (Scale - 0 to 1)\n",
    "    officer_utilisation = (mean_officer_hours)/(8*7)\n",
    "\n",
    "    # Third factor - Unresolved Incidents (Scale - 0 to 1)\n",
    "    unresolved_incidents = ((6*immediate_incompletion_pct)+ 2*(prompt_incompletion_pct) + 1*(standard_incompletion_pct))/9\n",
    "    \n",
    "    # Total scale, (0 to 1)\n",
    "    performance_metric = 0.8*incident_within_threshold + 0.2*officer_utilisation - unresolved_incidents*0.3\n",
    "    return performance_metric"
   ]
  },
  {
   "cell_type": "code",
   "execution_count": 90,
   "id": "e566d2a3-cdba-4f40-83da-cd2dcfb540bd",
   "metadata": {},
   "outputs": [],
   "source": [
    "shift_distribution = {'Early': {'Station_1': 7, 'Station_2': 0, 'Station_3': 8},\n",
    "  'Day': {'Station_1': 0, 'Station_2': 0, 'Station_3': 25},\n",
    "  'Night': {'Station_1': 0, 'Station_2': 11, 'Station_3': 29}\n",
    "}\n",
    "\n",
    "ps_coords = [ (p.x, p.y) for p in \n",
    "                [police_stations.one, \n",
    "                 police_stations.two, \n",
    "                 police_stations.three]]\n",
    "\n",
    "simulation = SimulationWithMaxUtilisation(data, ps_coords, shift_distribution, \n",
    "                        verbose=0)"
   ]
  },
  {
   "cell_type": "code",
   "execution_count": 91,
   "id": "76fcb613-2a60-4dad-962a-87adfddc0a67",
   "metadata": {},
   "outputs": [],
   "source": [
    "naive_model = NaiveModel()"
   ]
  },
  {
   "cell_type": "code",
   "execution_count": 92,
   "id": "ae482eb0-63cd-4c43-b7bf-4cd5101b9d55",
   "metadata": {},
   "outputs": [],
   "source": [
    "simulation.run(naive_model)"
   ]
  },
  {
   "cell_type": "code",
   "execution_count": 93,
   "id": "31013f5d-1016-4262-8a93-725031ffe075",
   "metadata": {},
   "outputs": [
    {
     "data": {
      "text/plain": [
       "0.9943266723146396"
      ]
     },
     "execution_count": 93,
     "metadata": {},
     "output_type": "execute_result"
    }
   ],
   "source": [
    "calculate_simulation_performance(simulation.analyze_simulation_results())"
   ]
  },
  {
   "cell_type": "code",
   "execution_count": null,
   "id": "14018c17-67bc-4c23-8f90-41fad6e663f6",
   "metadata": {},
   "outputs": [],
   "source": []
  },
  {
   "cell_type": "code",
   "execution_count": null,
   "id": "08112035-4874-4b8d-9758-f89d97905c36",
   "metadata": {},
   "outputs": [],
   "source": []
  }
 ],
 "metadata": {
  "kernelspec": {
   "display_name": "venv",
   "language": "python",
   "name": "venv"
  },
  "language_info": {
   "codemirror_mode": {
    "name": "ipython",
    "version": 3
   },
   "file_extension": ".py",
   "mimetype": "text/x-python",
   "name": "python",
   "nbconvert_exporter": "python",
   "pygments_lexer": "ipython3",
   "version": "3.11.0"
  }
 },
 "nbformat": 4,
 "nbformat_minor": 5
}
