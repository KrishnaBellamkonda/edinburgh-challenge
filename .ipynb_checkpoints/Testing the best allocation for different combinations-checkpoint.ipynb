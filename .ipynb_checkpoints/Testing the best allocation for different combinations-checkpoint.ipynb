{
 "cells": [
  {
   "cell_type": "code",
   "execution_count": 1,
   "id": "93a3a9d3-79c6-4f91-8165-69249e53bbe1",
   "metadata": {},
   "outputs": [],
   "source": [
    "# Imports\n",
    "import numpy as np\n",
    "import pandas as pd\n",
    "import seaborn as sns\n",
    "import matplotlib.pyplot as plt\n",
    "\n",
    "from edinburgh_challenge.constants import police_stations\n",
    "from edinburgh_challenge.utils import generate_early_shift_distributions\n",
    "from edinburgh_challenge.models import NaiveModel\n",
    "from edinburgh_challenge.simulation import *\n",
    "from edinburgh_challenge.processing import calculate_metric"
   ]
  },
  {
   "cell_type": "code",
   "execution_count": 2,
   "id": "658e79ba-c9a3-4ab0-b8aa-1e64dfb1cbf2",
   "metadata": {},
   "outputs": [],
   "source": [
    "source = \"./data.xlsx\""
   ]
  },
  {
   "cell_type": "code",
   "execution_count": 3,
   "id": "3912fcd9-bf5f-4404-9ed9-893b78b45552",
   "metadata": {},
   "outputs": [],
   "source": [
    "data = pd.read_excel(source)\n",
    "data[\"Time\"] = (data[\"Day\"]-1)*24 + data[\"Hour\"]\n",
    "data.columns = [x.lower() for x in data.columns]"
   ]
  },
  {
   "cell_type": "code",
   "execution_count": 4,
   "id": "e4f17d3c-41de-4176-ba95-9cca5475d03e",
   "metadata": {},
   "outputs": [],
   "source": [
    "shift_distribution = {\n",
    "    'Early': {'Station_1': 5, 'Station_2': 5, 'Station_3':5},\n",
    "    'Day': {'Station_1': 8, 'Station_2': 8, 'Station_3': 9},\n",
    "    'Night': {'Station_1': 13, 'Station_2': 13, 'Station_3': 14}\n",
    "}\n",
    "\n",
    "ps_coords = [ (p.x, p.y) for p in \n",
    "                [police_stations.one, \n",
    "                 police_stations.two, \n",
    "                 police_stations.three]]\n",
    "\n",
    "simulation = Simulation(data, ps_coords, shift_distribution, \n",
    "                        verbose=0)"
   ]
  },
  {
   "cell_type": "code",
   "execution_count": 5,
   "id": "6c48f779-466e-40d4-80a7-0d8bdaac6e74",
   "metadata": {},
   "outputs": [],
   "source": [
    "naive_model = NaiveModel()"
   ]
  },
  {
   "cell_type": "code",
   "execution_count": 6,
   "id": "c960bb89-f2b4-47a8-bdcd-190c3f17d38e",
   "metadata": {},
   "outputs": [],
   "source": [
    "simulation.run(naive_model)\n",
    "_, _, is_time_travelled = simulation.check_simulation()\n",
    "if is_time_travelled:\n",
    "    print(\"Time Travelled\")\n",
    "results = simulation.analyze_simulation_results()"
   ]
  },
  {
   "cell_type": "code",
   "execution_count": 7,
   "id": "3238aa67-a7d9-49f7-8f37-a6af801f187f",
   "metadata": {},
   "outputs": [],
   "source": [
    "simulation = SimulationWithMaxUtilisation(data, ps_coords, shift_distribution)\n",
    "simulation.run(naive_model)\n",
    "_, _, is_time_travelled = simulation.check_simulation()\n",
    "if is_time_travelled:\n",
    "    print(\"Time Travelled\")\n",
    "_, _, is_time_travelled = simulation.check_simulation()"
   ]
  },
  {
   "cell_type": "markdown",
   "id": "752f2393-cafb-44e2-a5f1-06c871969c85",
   "metadata": {},
   "source": [
    "# Normal Simulation Optimisatin"
   ]
  },
  {
   "cell_type": "markdown",
   "id": "26ef29f4-4e72-4695-8dd0-c49b020116d5",
   "metadata": {},
   "source": [
    "## Early shift optimisation"
   ]
  },
  {
   "cell_type": "code",
   "execution_count": 10,
   "id": "e6085e9a-dce5-4c20-89d6-0633daa86652",
   "metadata": {},
   "outputs": [],
   "source": [
    "early_shift_dist = generate_early_shift_distributions()\n",
    "simulation_results = []\n",
    "for dist in early_shift_dist:\n",
    "    new_shift_distribution = dict(shift_distribution)\n",
    "    new_shift_distribution[\"Early\"] = {'Station_1': dist[0], 'Station_2':dist[1], 'Station_3':dist[2]}\n",
    "    simulation = Simulation(data, ps_coords, new_shift_distribution, verbose=1)\n",
    "    simulation.run(naive_model)\n",
    "    res = simulation.analyze_simulation_results()\n",
    "    result = calculate_metric(res)\n",
    "    simulation_results.append((new_shift_distribution, result))"
   ]
  },
  {
   "cell_type": "code",
   "execution_count": 12,
   "id": "84a088d1-4e32-4b1c-a0d7-3609aba64bc6",
   "metadata": {},
   "outputs": [],
   "source": [
    "sorted_simulations = sorted(simulation_results, reverse=True, key=lambda x: x[1])"
   ]
  },
  {
   "cell_type": "code",
   "execution_count": 14,
   "id": "f7cf420b-62bc-493f-ada8-01bbd11f4ba5",
   "metadata": {},
   "outputs": [
    {
     "data": {
      "text/plain": [
       "({'Early': {'Station_1': 9, 'Station_2': 3, 'Station_3': 3},\n",
       "  'Day': {'Station_1': 8, 'Station_2': 8, 'Station_3': 9},\n",
       "  'Night': {'Station_1': 13, 'Station_2': 13, 'Station_3': 14}},\n",
       " 0.8683181867462119)"
      ]
     },
     "execution_count": 14,
     "metadata": {},
     "output_type": "execute_result"
    }
   ],
   "source": [
    "sorted_simulations[0]"
   ]
  },
  {
   "cell_type": "markdown",
   "id": "77d8fba6-f642-4db8-aefd-a8b6c33f398d",
   "metadata": {},
   "source": [
    "## Day Shift Optimisation"
   ]
  },
  {
   "cell_type": "code",
   "execution_count": 16,
   "id": "682052ce-ed42-4089-af4e-f58f597805b6",
   "metadata": {},
   "outputs": [],
   "source": [
    "early_shift = {'Station_1': 9, 'Station_2': 3, 'Station_3': 3}\n",
    "night_shift = {'Station_1': 13, 'Station_2': 13, 'Station_3': 14}"
   ]
  },
  {
   "cell_type": "code",
   "execution_count": 20,
   "id": "54ff3e76-c031-45d8-b794-7cb9f0edf878",
   "metadata": {},
   "outputs": [],
   "source": [
    "early_shift_dist = generate_early_shift_distributions(25)\n",
    "simulation_results = []\n",
    "for dist in early_shift_dist:\n",
    "    new_shift_distribution = dict(shift_distribution)\n",
    "    new_shift_distribution[\"Early\"] = early_shift\n",
    "    new_shift_distribution[\"Night\"] = night_shift\n",
    "    new_shift_distribution[\"Day\"] = {'Station_1': dist[0], 'Station_2': dist[1], 'Station_3': dist[2]}\n",
    "    simulation = Simulation(data, ps_coords, new_shift_distribution, verbose=1)\n",
    "    simulation.run(naive_model)\n",
    "    res = simulation.analyze_simulation_results()\n",
    "    result = calculate_metric(res)\n",
    "    simulation_results.append((new_shift_distribution, result))"
   ]
  },
  {
   "cell_type": "code",
   "execution_count": 21,
   "id": "7a79d554-459b-48ae-be3c-052b88b8abda",
   "metadata": {},
   "outputs": [],
   "source": [
    "sorted_simulations = sorted(simulation_results, reverse=True, key=lambda x: x[1])"
   ]
  },
  {
   "cell_type": "code",
   "execution_count": 22,
   "id": "3fd2795f-5c54-4f3e-acdf-0aeef8ad7461",
   "metadata": {},
   "outputs": [
    {
     "data": {
      "text/plain": [
       "({'Early': {'Station_1': 9, 'Station_2': 3, 'Station_3': 3},\n",
       "  'Day': {'Station_1': 17, 'Station_2': 1, 'Station_3': 7},\n",
       "  'Night': {'Station_1': 13, 'Station_2': 13, 'Station_3': 14}},\n",
       " 0.8708790062084397)"
      ]
     },
     "execution_count": 22,
     "metadata": {},
     "output_type": "execute_result"
    }
   ],
   "source": [
    "sorted_simulations[0]"
   ]
  },
  {
   "cell_type": "markdown",
   "id": "95ad9744-c505-4994-8227-23739370bef0",
   "metadata": {},
   "source": [
    "## Night Optimisation"
   ]
  },
  {
   "cell_type": "code",
   "execution_count": 13,
   "id": "07ad20d4-4b84-44f6-bce2-492050c37532",
   "metadata": {},
   "outputs": [],
   "source": [
    "early_shift = {'Station_1': 9, 'Station_2': 3, 'Station_3': 3}\n",
    "day_shift = {'Station_1': 17, 'Station_2': 1, 'Station_3': 7}"
   ]
  },
  {
   "cell_type": "code",
   "execution_count": 14,
   "id": "21a8436d-0af2-4304-bc5a-3da85635b4bc",
   "metadata": {},
   "outputs": [],
   "source": [
    "early_shift_dist = generate_early_shift_distributions(40)\n",
    "simulation_results = []\n",
    "for dist in early_shift_dist:\n",
    "    new_shift_distribution = dict(shift_distribution)\n",
    "    new_shift_distribution[\"Early\"] = early_shift\n",
    "    new_shift_distribution[\"Day\"] = day_shift\n",
    "    new_shift_distribution[\"Night\"] = {'Station_1': dist[0], 'Station_2': dist[1], 'Station_3': dist[2]}\n",
    "    simulation = Simulation(data, ps_coords, new_shift_distribution, verbose=1)\n",
    "    simulation.run(naive_model)\n",
    "    res = simulation.analyze_simulation_results()\n",
    "    result = calculate_metric(res)\n",
    "    simulation_results.append((new_shift_distribution, result))"
   ]
  },
  {
   "cell_type": "code",
   "execution_count": 15,
   "id": "827b0af5-da9c-4171-b918-fe92822b5046",
   "metadata": {},
   "outputs": [],
   "source": [
    "sorted_simulations = sorted(simulation_results, reverse=True, key=lambda x: x[1])"
   ]
  },
  {
   "cell_type": "code",
   "execution_count": 16,
   "id": "0d3859b1-d37f-484b-97a2-a73b742579d0",
   "metadata": {},
   "outputs": [
    {
     "data": {
      "text/plain": [
       "({'Early': {'Station_1': 9, 'Station_2': 3, 'Station_3': 3},\n",
       "  'Day': {'Station_1': 17, 'Station_2': 1, 'Station_3': 7},\n",
       "  'Night': {'Station_1': 21, 'Station_2': 3, 'Station_3': 16}},\n",
       " 0.8795083654232393)"
      ]
     },
     "execution_count": 16,
     "metadata": {},
     "output_type": "execute_result"
    }
   ],
   "source": [
    "sorted_simulations[0]"
   ]
  },
  {
   "cell_type": "code",
   "execution_count": 23,
   "id": "26ec0d24-428c-44cc-8d77-afd494386529",
   "metadata": {},
   "outputs": [],
   "source": [
    "night_shift = {'Station_1': 21, 'Station_2': 3, 'Station_3': 16}"
   ]
  },
  {
   "cell_type": "code",
   "execution_count": 24,
   "id": "c8e4a284-3267-43a8-9ee6-9cb9d8273617",
   "metadata": {},
   "outputs": [],
   "source": [
    "best_shift_dist = {\n",
    "    \"Early\":early_shift,\n",
    "    \"Day\": day_shift,\n",
    "    \"Night\": night_shift\n",
    "}"
   ]
  },
  {
   "cell_type": "code",
   "execution_count": 27,
   "id": "c7bf9d8a-dd09-450c-b853-a1a47c8f222e",
   "metadata": {},
   "outputs": [
    {
     "name": "stdout",
     "output_type": "stream",
     "text": [
      "{'Completion Percentages': {'Immediate': 100.0, 'Prompt': 100.0, 'Standard': 95.0381679389313}, 'Mean Response Times': {'Immediate': 88.31222759650308, 'Prompt': 84.92111099703045, 'Standard': 91.31507007497375}, 'Mean Deployment Times': {'Immediate': 1.5403225806451613, 'Prompt': 1.5061196105702366, 'Standard': 1.48785140562249}, 'Threshold Compliance': {'Immediate': 99.67741935483872, 'Prompt': 95.6884561891516, 'Standard': 41.164658634538156}, 'Mean Officer Time': 44.943788324783426, 'Unresolved Incident Percentage': 1.1443661971830987}\n"
     ]
    }
   ],
   "source": [
    "simulation = Simulation(data, ps_coords, best_shift_dist, verbose=1)\n",
    "simulation.run(naive_model)\n",
    "_, _, is_time_travelled = simulation.check_simulation()\n",
    "if is_time_travelled:\n",
    "    print(\"Time Travelled\")\n",
    "res = simulation.analyze_simulation_results()\n",
    "result = calculate_metric(res)\n",
    "print(res)"
   ]
  },
  {
   "cell_type": "markdown",
   "id": "9361a309-d2eb-476f-a2a8-563b7ab48c94",
   "metadata": {},
   "source": [
    "# Simulation With Max Utilisation"
   ]
  },
  {
   "cell_type": "code",
   "execution_count": 28,
   "id": "3d767723-81f4-49af-8345-a8f8e148e787",
   "metadata": {},
   "outputs": [],
   "source": [
    "shift_distribution = {\n",
    "    'Early': {'Station_1': 5, 'Station_2': 5, 'Station_3':5},\n",
    "    'Day': {'Station_1': 8, 'Station_2': 8, 'Station_3': 9},\n",
    "    'Night': {'Station_1': 13, 'Station_2': 13, 'Station_3': 14}\n",
    "}\n",
    "\n",
    "ps_coords = [ (p.x, p.y) for p in \n",
    "                [police_stations.one, \n",
    "                 police_stations.two, \n",
    "                 police_stations.three]]\n",
    "\n",
    "simulation = Simulation(data, ps_coords, shift_distribution, \n",
    "                        verbose=0)"
   ]
  },
  {
   "cell_type": "markdown",
   "id": "3502f508-b1d1-4dae-b76c-c63346c9b2e2",
   "metadata": {},
   "source": [
    "## Early shift optimisation\n"
   ]
  },
  {
   "cell_type": "code",
   "execution_count": 29,
   "id": "e0b85bde-4d46-493b-ab6a-d0f827d19b5b",
   "metadata": {},
   "outputs": [
    {
     "name": "stdout",
     "output_type": "stream",
     "text": [
      "len(early_shift_dist)=136\n"
     ]
    }
   ],
   "source": [
    "early_shift_dist = generate_early_shift_distributions()\n",
    "print(f\"{len(early_shift_dist)=}\")\n",
    "simulation_results = []\n",
    "for dist in early_shift_dist:\n",
    "    new_shift_distribution = dict(shift_distribution)\n",
    "    new_shift_distribution[\"Early\"] = {'Station_1': dist[0], 'Station_2':dist[1], 'Station_3':dist[2]}\n",
    "    simulation = SimulationWithMaxUtilisation(data, ps_coords, new_shift_distribution, verbose=1)\n",
    "    simulation.run(naive_model)\n",
    "    res = simulation.analyze_simulation_results()\n",
    "    result = calculate_metric(res)\n",
    "    simulation_results.append((new_shift_distribution, result))"
   ]
  },
  {
   "cell_type": "code",
   "execution_count": 30,
   "id": "c11e6a50-ac24-4c3f-92b3-61580ccb5333",
   "metadata": {},
   "outputs": [
    {
     "data": {
      "text/plain": [
       "({'Early': {'Station_1': 7, 'Station_2': 0, 'Station_3': 8},\n",
       "  'Day': {'Station_1': 8, 'Station_2': 8, 'Station_3': 9},\n",
       "  'Night': {'Station_1': 13, 'Station_2': 13, 'Station_3': 14}},\n",
       " 0.9942542991412818)"
      ]
     },
     "execution_count": 30,
     "metadata": {},
     "output_type": "execute_result"
    }
   ],
   "source": [
    "sorted_simulations = sorted(simulation_results, reverse=True, key=lambda x: x[1])\n",
    "sorted_simulations[0]"
   ]
  },
  {
   "cell_type": "markdown",
   "id": "1be5aaef-a01d-4ade-bba0-2836ab45dae3",
   "metadata": {},
   "source": [
    "## Day Shift Optimisation"
   ]
  },
  {
   "cell_type": "code",
   "execution_count": 34,
   "id": "d99d3823-95df-4bbb-bba6-43f198144302",
   "metadata": {},
   "outputs": [],
   "source": [
    "early_shift = {'Station_1': 7, 'Station_2': 0, 'Station_3': 8}\n",
    "night_shift = {'Station_1': 13, 'Station_2': 13, 'Station_3': 14}"
   ]
  },
  {
   "cell_type": "code",
   "execution_count": 35,
   "id": "651f57fb-b0b9-4549-ad53-38988516aadd",
   "metadata": {},
   "outputs": [
    {
     "name": "stdout",
     "output_type": "stream",
     "text": [
      "len(early_shift_dist)=351\n"
     ]
    }
   ],
   "source": [
    "early_shift_dist = generate_early_shift_distributions(25)\n",
    "print(f\"{len(early_shift_dist)=}\")\n",
    "simulation_results = []\n",
    "for dist in early_shift_dist:\n",
    "    new_shift_distribution = dict(shift_distribution)\n",
    "    new_shift_distribution[\"Early\"] = early_shift\n",
    "    new_shift_distribution[\"Night\"] = night_shift\n",
    "    new_shift_distribution[\"Day\"] = {'Station_1': dist[0], 'Station_2':dist[1], 'Station_3':dist[2]}\n",
    "    simulation = SimulationWithMaxUtilisation(data, ps_coords, new_shift_distribution, verbose=1)\n",
    "    simulation.run(naive_model)\n",
    "    res = simulation.analyze_simulation_results()\n",
    "    result = calculate_metric(res)\n",
    "    simulation_results.append((new_shift_distribution, result))"
   ]
  },
  {
   "cell_type": "code",
   "execution_count": 36,
   "id": "be9aa89a-952c-460d-aea4-a029ada37ff3",
   "metadata": {},
   "outputs": [
    {
     "data": {
      "text/plain": [
       "({'Early': {'Station_1': 7, 'Station_2': 0, 'Station_3': 8},\n",
       "  'Day': {'Station_1': 0, 'Station_2': 0, 'Station_3': 25},\n",
       "  'Night': {'Station_1': 13, 'Station_2': 13, 'Station_3': 14}},\n",
       " 0.9942542991412818)"
      ]
     },
     "execution_count": 36,
     "metadata": {},
     "output_type": "execute_result"
    }
   ],
   "source": [
    "sorted_simulations = sorted(simulation_results, reverse=True, key=lambda x: x[1])\n",
    "sorted_simulations[0]"
   ]
  },
  {
   "cell_type": "code",
   "execution_count": null,
   "id": "69c0f515-36e7-47b9-8bcd-7269d53daf31",
   "metadata": {},
   "outputs": [],
   "source": [
    "sorted_simulations = sorted(simulation_results, reverse=True, key=lambda x: x[1])\n",
    "sorted_simulations[0]"
   ]
  }
 ],
 "metadata": {
  "kernelspec": {
   "display_name": "venv",
   "language": "python",
   "name": "venv"
  },
  "language_info": {
   "codemirror_mode": {
    "name": "ipython",
    "version": 3
   },
   "file_extension": ".py",
   "mimetype": "text/x-python",
   "name": "python",
   "nbconvert_exporter": "python",
   "pygments_lexer": "ipython3",
   "version": "3.11.0"
  }
 },
 "nbformat": 4,
 "nbformat_minor": 5
}
