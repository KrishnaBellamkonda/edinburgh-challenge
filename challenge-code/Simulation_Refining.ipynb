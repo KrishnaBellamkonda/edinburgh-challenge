{
 "cells": [
  {
   "cell_type": "code",
   "execution_count": 1,
   "metadata": {},
   "outputs": [],
   "source": [
    "from edinburgh_challenge.constants import police_stations, police_stations_dict"
   ]
  },
  {
   "cell_type": "code",
   "execution_count": 2,
   "metadata": {},
   "outputs": [],
   "source": [
    "from dataclasses import dataclass\n",
    "from typing import List, Dict\n",
    "from abc import ABC, abstractmethod\n",
    "\n",
    "import numpy as np\n",
    "import pandas as pd\n",
    "from math import radians, cos, sin, asin\n",
    "\n",
    "from edinburgh_challenge.constants import Shift\n",
    "from edinburgh_challenge.simulation import Simulator\n",
    "from edinburgh_challenge.models import GreedyModel\n",
    "\n",
    "\n",
    "\n",
    "class Model(ABC):\n",
    "    @abstractmethod\n",
    "    def make_allocation(self, incidents, officers, current_time):\n",
    "        pass\n",
    "\n",
    "@dataclass\n",
    "class Incident:\n",
    "    urn: str\n",
    "    latitude: float\n",
    "    longitude: float\n",
    "    day:int\n",
    "    hour:int\n",
    "    global_time: float  # Time at which the incident was reported (24*day + hour)\n",
    "    deployment_time: float  # Time taken to resolve the incident after reaching the location\n",
    "    priority: str\n",
    "    distances: Dict[str, float]  # Distances from each station\n",
    "    resolved: bool = False\n",
    "    resolving_officer: str = None\n",
    "    response_time: float = None  # Global time when the response arrives at the scene\n",
    "    resolution_time: float = None  # Global time when the incident is resolved\n",
    "    allocation_time:float = None\n",
    "\n",
    "@dataclass\n",
    "class Officer:\n",
    "    name: str\n",
    "    station: str\n",
    "    available: bool = True\n",
    "    return_time: float = 0.0\n",
    "\n",
    "\n",
    "# Shift distribution structure\n",
    "# Example: {'Early': {'Station_1': 5, 'Station_2': 5, 'Station_3': 5}, ...}\n",
    "ShiftDistribution = Dict[str, Dict[str, int]]\n",
    "\n",
    "weekday_shift_distribution = {\n",
    "    'Early': 20,\n",
    "    'Day': 50,\n",
    "    'Night':30\n",
    "}\n",
    "\n",
    "weekend_shift_distribution = {\n",
    "    'Early': 20,\n",
    "    'Day': 40,\n",
    "    'Night': 40\n",
    "}"
   ]
  },
  {
   "cell_type": "code",
   "execution_count": null,
   "metadata": {},
   "outputs": [],
   "source": []
  },
  {
   "cell_type": "code",
   "execution_count": 3,
   "metadata": {},
   "outputs": [],
   "source": [
    "source = \"./data.xlsx\"\n",
    "data = pd.read_excel(source)\n",
    "data[\"Time\"] = (data[\"Day\"]-1)*24 + data[\"Hour\"]\n",
    "data.columns = [x.lower() for x in data.columns]\n",
    "\n",
    "ps = [[f'PS_{i}', p.x, p.y] for i,p in \n",
    "      enumerate([police_stations.one, \n",
    "                 police_stations.two, \n",
    "                 police_stations.three])]\n",
    "df_ps = pd.DataFrame(ps, columns=[\"Name\",\"Latitude\", \"Longitude\"])"
   ]
  },
  {
   "cell_type": "markdown",
   "metadata": {},
   "source": [
    "## Shift Distibution Change"
   ]
  },
  {
   "cell_type": "code",
   "execution_count": 4,
   "metadata": {},
   "outputs": [],
   "source": [
    "shift_distribution = {'Early': {'Station_1': 0, 'Station_2': 5, 'Station_3': 10},\n",
    "  'Day': {'Station_1': 2, 'Station_2': 19, 'Station_3': 4},\n",
    "  'Night': {'Station_1': 9, 'Station_2': 3, 'Station_3': 28}\n",
    "}\n",
    "\n",
    "\n",
    "ps_coords = [ (p.x, p.y) for p in \n",
    "                [police_stations.one, \n",
    "                 police_stations.two, \n",
    "                 police_stations.three]]\n",
    "\n",
    "simulation = Simulator(data, ps_coords,shift_distribution, verbose=-1)\n",
    "\n",
    "\n",
    "\n",
    "greedy_model = GreedyModel(shift_distribution, police_stations_dict)"
   ]
  },
  {
   "cell_type": "code",
   "execution_count": 6,
   "metadata": {},
   "outputs": [
    {
     "ename": "ZeroDivisionError",
     "evalue": "division by zero",
     "output_type": "error",
     "traceback": [
      "\u001b[0;31m---------------------------------------------------------------------------\u001b[0m",
      "\u001b[0;31mZeroDivisionError\u001b[0m                         Traceback (most recent call last)",
      "Cell \u001b[0;32mIn[6], line 3\u001b[0m\n\u001b[1;32m      1\u001b[0m \u001b[38;5;66;03m# No. of officers per shift\u001b[39;00m\n\u001b[1;32m      2\u001b[0m simulation\u001b[38;5;241m.\u001b[39mrun(greedy_model)\n\u001b[0;32m----> 3\u001b[0m \u001b[43msimulation\u001b[49m\u001b[38;5;241;43m.\u001b[39;49m\u001b[43manalyze_simulation_results\u001b[49m\u001b[43m(\u001b[49m\u001b[43m)\u001b[49m\n",
      "File \u001b[0;32m~/Desktop/Krishna/Internship - Police Scotland/edinburgh-challenge/edinburgh_challenge/simulation.py:646\u001b[0m, in \u001b[0;36mSimulator.analyze_simulation_results\u001b[0;34m(self)\u001b[0m\n\u001b[1;32m    637\u001b[0m threshold_compliance \u001b[38;5;241m=\u001b[39m {p: (within_threshold_counts[p] \u001b[38;5;241m/\u001b[39m incident_counts[p]) \u001b[38;5;241m*\u001b[39m \u001b[38;5;241m100\u001b[39m \u001b[38;5;28;01mif\u001b[39;00m resolved_counts[p] \u001b[38;5;241m>\u001b[39m \u001b[38;5;241m0\u001b[39m \u001b[38;5;28;01melse\u001b[39;00m \u001b[38;5;241m0\u001b[39m \u001b[38;5;28;01mfor\u001b[39;00m p \u001b[38;5;129;01min\u001b[39;00m incident_counts}\n\u001b[1;32m    639\u001b[0m \u001b[38;5;66;03m# Calculate officer utilization\u001b[39;00m\n\u001b[1;32m    640\u001b[0m \u001b[38;5;66;03m#for station in simulation.officers.values():\u001b[39;00m\n\u001b[1;32m    641\u001b[0m \u001b[38;5;66;03m#    for officer in station:\u001b[39;00m\n\u001b[0;32m   (...)\u001b[0m\n\u001b[1;32m    644\u001b[0m \n\u001b[1;32m    645\u001b[0m \u001b[38;5;66;03m#officer_utilization = sum(total_officer_hours.values()) / (len(total_officer_hours) * simulation.current_time) * 100\u001b[39;00m\n\u001b[0;32m--> 646\u001b[0m mean_total_office_hours \u001b[38;5;241m=\u001b[39m \u001b[38;5;28;43msum\u001b[39;49m\u001b[43m(\u001b[49m\u001b[43mtotal_officer_hours\u001b[49m\u001b[38;5;241;43m.\u001b[39;49m\u001b[43mvalues\u001b[49m\u001b[43m(\u001b[49m\u001b[43m)\u001b[49m\u001b[43m)\u001b[49m\u001b[38;5;241;43m/\u001b[39;49m\u001b[38;5;28;43mlen\u001b[39;49m\u001b[43m(\u001b[49m\u001b[43mtotal_officer_hours\u001b[49m\u001b[38;5;241;43m.\u001b[39;49m\u001b[43mvalues\u001b[49m\u001b[43m(\u001b[49m\u001b[43m)\u001b[49m\u001b[43m)\u001b[49m\n\u001b[1;32m    647\u001b[0m unresolved_incident_percentage \u001b[38;5;241m=\u001b[39m (unresolved_incidents \u001b[38;5;241m/\u001b[39m \u001b[38;5;28mlen\u001b[39m(simulation\u001b[38;5;241m.\u001b[39mcumulative_incidents)) \u001b[38;5;241m*\u001b[39m \u001b[38;5;241m100\u001b[39m \u001b[38;5;28;01mif\u001b[39;00m simulation\u001b[38;5;241m.\u001b[39mcumulative_incidents \u001b[38;5;28;01melse\u001b[39;00m \u001b[38;5;241m0\u001b[39m\n\u001b[1;32m    649\u001b[0m \u001b[38;5;28;01mreturn\u001b[39;00m {\n\u001b[1;32m    650\u001b[0m     \u001b[38;5;124m\"\u001b[39m\u001b[38;5;124mCompletion Percentages\u001b[39m\u001b[38;5;124m\"\u001b[39m: completion_percentages,\n\u001b[1;32m    651\u001b[0m     \u001b[38;5;124m\"\u001b[39m\u001b[38;5;124mMean Response Times\u001b[39m\u001b[38;5;124m\"\u001b[39m: mean_response_times,\n\u001b[0;32m   (...)\u001b[0m\n\u001b[1;32m    656\u001b[0m     \u001b[38;5;124m\"\u001b[39m\u001b[38;5;124mUnresolved Incident Percentage\u001b[39m\u001b[38;5;124m\"\u001b[39m: unresolved_incident_percentage\n\u001b[1;32m    657\u001b[0m }\n",
      "\u001b[0;31mZeroDivisionError\u001b[0m: division by zero"
     ]
    }
   ],
   "source": [
    "# No. of officers per shift\n",
    "simulation.run(greedy_model)\n",
    "simulation.analyze_simulation_results()"
   ]
  },
  {
   "cell_type": "code",
   "execution_count": null,
   "metadata": {},
   "outputs": [],
   "source": [
    "simulation.analyze_simulation_results()"
   ]
  },
  {
   "cell_type": "code",
   "execution_count": null,
   "metadata": {},
   "outputs": [],
   "source": []
  }
 ],
 "metadata": {
  "kernelspec": {
   "display_name": "Python 3 (ipykernel)",
   "language": "python",
   "name": "python3"
  },
  "language_info": {
   "codemirror_mode": {
    "name": "ipython",
    "version": 3
   },
   "file_extension": ".py",
   "mimetype": "text/x-python",
   "name": "python",
   "nbconvert_exporter": "python",
   "pygments_lexer": "ipython3",
   "version": "3.8.8"
  }
 },
 "nbformat": 4,
 "nbformat_minor": 2
}
