{
 "cells": [
  {
   "cell_type": "code",
   "execution_count": 1,
   "id": "18af4789-1b7c-43e4-9176-f73a3e9a2af1",
   "metadata": {},
   "outputs": [],
   "source": [
    "# Imports\n",
    "import matplotlib.pyplot as plt\n",
    "\n",
    "import heapq\n",
    "import numpy as np\n",
    "import pandas as pd\n",
    "import seaborn as sns\n",
    "import matplotlib.pyplot as plt\n",
    "from collections import defaultdict\n",
    "from math import floor, ceil, inf\n",
    "from dataclasses import asdict\n",
    "\n",
    "from edinburgh_challenge.constants import police_stations, police_stations_dict\n",
    "from edinburgh_challenge.utility import generate_early_shift_distributions\n",
    "from edinburgh_challenge.models import NaiveModel, GreedyModel, EnhancedModel, SimplifiedModelNotBest, SimplifiedModel\n",
    "from edinburgh_challenge.simulation import *\n",
    "from edinburgh_challenge.processing import calculate_metric, calculate_simulation_performance"
   ]
  },
  {
   "cell_type": "code",
   "execution_count": 2,
   "id": "c0b68593-9d86-4581-a81b-771d538947b0",
   "metadata": {},
   "outputs": [],
   "source": [
    "source = \"./data.xlsx\"\n",
    "data = pd.read_excel(source)\n",
    "data[\"Time\"] = (data[\"Day\"]-1)*24 + data[\"Hour\"]\n",
    "data.columns = [x.lower() for x in data.columns]"
   ]
  },
  {
   "cell_type": "code",
   "execution_count": 3,
   "id": "c70b2ed8-88b4-4512-87f9-1cb7b17a8c44",
   "metadata": {},
   "outputs": [
    {
     "name": "stdout",
     "output_type": "stream",
     "text": [
      "80\n",
      "80\n"
     ]
    }
   ],
   "source": [
    "no_of_officers = 15+25+40\n",
    "print(no_of_officers)\n",
    "\n",
    "# increase early decrease night\n",
    "# incerase early to 22, decrease night to 33\n",
    "n_early = 20\n",
    "n_day = 25\n",
    "n_night = 35\n",
    "print(n_early + n_day + n_night)"
   ]
  },
  {
   "cell_type": "markdown",
   "id": "843bd7f5-022a-4e9b-8cca-fa16abac5045",
   "metadata": {},
   "source": [
    "## Base Case"
   ]
  },
  {
   "cell_type": "code",
   "execution_count": 10,
   "id": "0ec5ca88-4fd5-4994-999b-453b74e31e94",
   "metadata": {},
   "outputs": [],
   "source": [
    "shift_distribution = {\n",
    "    'Early': {'Station_1': 7, 'Station_2': 6, 'Station_3':7}, # 25\n",
    "    'Day': {'Station_1': 8, 'Station_2': 8, 'Station_3': 9}, #25\n",
    "    'Night': {'Station_1': 12, 'Station_2': 11, 'Station_3': 12} # 35\n",
    "}\n",
    "\n",
    "ps_coords = [ (p.x, p.y) for p in \n",
    "                [police_stations.one, \n",
    "                 police_stations.two, \n",
    "                 police_stations.three]]\n",
    "\n",
    "greedy_model = GreedyModel(shift_distribution, police_stations_dict)\n",
    "simulation = SimulationWithMaxUtilisation(data, ps_coords, shift_distribution, \n",
    "                        verbose=0)"
   ]
  },
  {
   "cell_type": "code",
   "execution_count": 11,
   "id": "ea90c7af-7cf2-451c-886c-d2643828e8c9",
   "metadata": {},
   "outputs": [
    {
     "name": "stdout",
     "output_type": "stream",
     "text": [
      "incident_within_threshold=1.0\n",
      "officer_utilisation=0.9611016573711841\n",
      "unresolved_incidents=0.0\n",
      "0.9922203314742368\n",
      "{'Completion Percentages': {'Immediate': 100.0, 'Prompt': 100.0, 'Standard': 100.0}, 'Mean Response Times': {'Immediate': 88.3519587454965, 'Prompt': 84.64411461532423, 'Standard': 88.32753727036726}, 'Mean Deployment Times': {'Immediate': 1.5403225806451613, 'Prompt': 1.5061196105702366, 'Standard': 1.4796755725190842}, 'Threshold Compliance': {'Immediate': 100.0, 'Prompt': 100.0, 'Standard': 100.0}, 'Mean Officer Hours': 54.7827944701575, 'Unresolved Incident Percentage': 0.0}\n"
     ]
    }
   ],
   "source": [
    "simulation.run(greedy_model)\n",
    "print(calculate_simulation_performance(simulation.analyze_simulation_results(), verbose=True))\n",
    "print(simulation.analyze_simulation_results())"
   ]
  },
  {
   "cell_type": "code",
   "execution_count": 12,
   "id": "e24af169-4865-4975-8fb3-d08b9b0aa6cd",
   "metadata": {},
   "outputs": [
    {
     "data": {
      "text/plain": [
       "{'Completion Percentages': {'Immediate': 100.0,\n",
       "  'Prompt': 100.0,\n",
       "  'Standard': 100.0},\n",
       " 'Mean Response Times': {'Immediate': 88.3519587454965,\n",
       "  'Prompt': 84.64411461532423,\n",
       "  'Standard': 88.32753727036726},\n",
       " 'Mean Deployment Times': {'Immediate': 1.5403225806451613,\n",
       "  'Prompt': 1.5061196105702366,\n",
       "  'Standard': 1.4796755725190842},\n",
       " 'Threshold Compliance': {'Immediate': 100.0,\n",
       "  'Prompt': 100.0,\n",
       "  'Standard': 100.0},\n",
       " 'Mean Officer Hours': 54.7827944701575,\n",
       " 'Unresolved Incident Percentage': 0.0}"
      ]
     },
     "execution_count": 12,
     "metadata": {},
     "output_type": "execute_result"
    }
   ],
   "source": [
    "simulation.analyze_simulation_results()"
   ]
  },
  {
   "cell_type": "markdown",
   "id": "b1dc85cc-6cf9-450c-adc7-1240bc296ddb",
   "metadata": {},
   "source": [
    "### Best Early Shift "
   ]
  },
  {
   "cell_type": "code",
   "execution_count": 33,
   "id": "af5de0d0-8deb-4bd3-8de8-294996685ea3",
   "metadata": {},
   "outputs": [],
   "source": [
    "early_shift_dist = generate_early_shift_distributions(n_early)\n",
    "simulation_results = []\n",
    "for dist in early_shift_dist:\n",
    "    new_shift_distribution = dict(shift_distribution)\n",
    "    new_shift_distribution[\"Early\"] = {'Station_1': dist[0], 'Station_2':dist[1], 'Station_3':dist[2]}\n",
    "    greedy_model = GreedyModel(new_shift_distribution, police_stations_dict)\n",
    "    simulation = SimulationWithMaxUtilisation(data, ps_coords, new_shift_distribution, verbose=1)\n",
    "    simulation.run(greedy_model)\n",
    "    res = simulation.analyze_simulation_results()\n",
    "    result = calculate_simulation_performance(res)\n",
    "    simulation_results.append((new_shift_distribution, result))"
   ]
  },
  {
   "cell_type": "code",
   "execution_count": 34,
   "id": "7ffeae22-f15b-46d8-86ff-328e4ba05568",
   "metadata": {},
   "outputs": [
    {
     "data": {
      "text/plain": [
       "[({'Early': {'Station_1': 0, 'Station_2': 9, 'Station_3': 16},\n",
       "   'Day': {'Station_1': 8, 'Station_2': 8, 'Station_3': 9},\n",
       "   'Night': {'Station_1': 12, 'Station_2': 11, 'Station_3': 12}},\n",
       "  0.974988756144854),\n",
       " ({'Early': {'Station_1': 0, 'Station_2': 10, 'Station_3': 15},\n",
       "   'Day': {'Station_1': 8, 'Station_2': 8, 'Station_3': 9},\n",
       "   'Night': {'Station_1': 12, 'Station_2': 11, 'Station_3': 12}},\n",
       "  0.9749860147553077),\n",
       " ({'Early': {'Station_1': 0, 'Station_2': 6, 'Station_3': 19},\n",
       "   'Day': {'Station_1': 8, 'Station_2': 8, 'Station_3': 9},\n",
       "   'Night': {'Station_1': 12, 'Station_2': 11, 'Station_3': 12}},\n",
       "  0.9749742028097528),\n",
       " ({'Early': {'Station_1': 0, 'Station_2': 8, 'Station_3': 17},\n",
       "   'Day': {'Station_1': 8, 'Station_2': 8, 'Station_3': 9},\n",
       "   'Night': {'Station_1': 12, 'Station_2': 11, 'Station_3': 12}},\n",
       "  0.9749724724097294)]"
      ]
     },
     "execution_count": 34,
     "metadata": {},
     "output_type": "execute_result"
    }
   ],
   "source": [
    "sorted_early_simulations = sorted(simulation_results, reverse=True, key=lambda x: x[1])\n",
    "sorted_early_simulations[0:4]"
   ]
  },
  {
   "cell_type": "markdown",
   "id": "aac37e6c-3417-4dac-9252-4f7c3e45681e",
   "metadata": {},
   "source": [
    "## Best Day Shift"
   ]
  },
  {
   "cell_type": "code",
   "execution_count": 35,
   "id": "2dee65bd-5053-46be-9479-1878bb3b6b20",
   "metadata": {},
   "outputs": [],
   "source": [
    "shift_distribution = {\n",
    "    'Early': sorted_early_simulations[0][0][\"Early\"],\n",
    "    'Day': {'Station_1': 8, 'Station_2': 8, 'Station_3': 9},\n",
    "    'Night': {'Station_1': 13, 'Station_2': 13, 'Station_3': 14}\n",
    "}"
   ]
  },
  {
   "cell_type": "code",
   "execution_count": 36,
   "id": "f0dfd867-fa0c-42dc-9ff2-e1fb3502266c",
   "metadata": {},
   "outputs": [],
   "source": [
    "early_shift_dist = generate_early_shift_distributions(n_day)\n",
    "simulation_results = []\n",
    "for dist in early_shift_dist:\n",
    "    \n",
    "    new_shift_distribution = dict(shift_distribution)\n",
    "    new_shift_distribution[\"Day\"] = {'Station_1': dist[0], 'Station_2': dist[1], 'Station_3': dist[2]}\n",
    "    \n",
    "    greedy_model = GreedyModel(new_shift_distribution, police_stations_dict)\n",
    "    \n",
    "    simulation = SimulationWithMaxUtilisation(data, ps_coords, new_shift_distribution, verbose=1)\n",
    "    simulation.run(greedy_model)\n",
    "    \n",
    "    res = simulation.analyze_simulation_results()\n",
    "    result = calculate_simulation_performance(res)\n",
    "    simulation_results.append((new_shift_distribution, result))"
   ]
  },
  {
   "cell_type": "code",
   "execution_count": 37,
   "id": "499bc2af-e417-48c9-b780-4fac6771db0e",
   "metadata": {},
   "outputs": [
    {
     "data": {
      "text/plain": [
       "[({'Early': {'Station_1': 0, 'Station_2': 9, 'Station_3': 16},\n",
       "   'Day': {'Station_1': 2, 'Station_2': 13, 'Station_3': 10},\n",
       "   'Night': {'Station_1': 13, 'Station_2': 13, 'Station_3': 14}},\n",
       "  0.9590974108078765),\n",
       " ({'Early': {'Station_1': 0, 'Station_2': 9, 'Station_3': 16},\n",
       "   'Day': {'Station_1': 2, 'Station_2': 19, 'Station_3': 4},\n",
       "   'Night': {'Station_1': 13, 'Station_2': 13, 'Station_3': 14}},\n",
       "  0.9590865533533555),\n",
       " ({'Early': {'Station_1': 0, 'Station_2': 9, 'Station_3': 16},\n",
       "   'Day': {'Station_1': 2, 'Station_2': 14, 'Station_3': 9},\n",
       "   'Night': {'Station_1': 13, 'Station_2': 13, 'Station_3': 14}},\n",
       "  0.9590776100095308),\n",
       " ({'Early': {'Station_1': 0, 'Station_2': 9, 'Station_3': 16},\n",
       "   'Day': {'Station_1': 2, 'Station_2': 15, 'Station_3': 8},\n",
       "   'Night': {'Station_1': 13, 'Station_2': 13, 'Station_3': 14}},\n",
       "  0.9590733018392992)]"
      ]
     },
     "execution_count": 37,
     "metadata": {},
     "output_type": "execute_result"
    }
   ],
   "source": [
    "sorted_day_simulations = sorted(simulation_results, reverse=True, key=lambda x: x[1])\n",
    "sorted_day_simulations[0:4]"
   ]
  },
  {
   "cell_type": "markdown",
   "id": "136bae5d-4fce-46e2-9ab5-9323036e8395",
   "metadata": {},
   "source": [
    "## Best Night Shift"
   ]
  },
  {
   "cell_type": "code",
   "execution_count": 38,
   "id": "398d6696-1562-4b46-9ec0-370cf3752b27",
   "metadata": {},
   "outputs": [],
   "source": [
    "shift_distribution = {\n",
    "    'Early': sorted_early_simulations[0][0][\"Early\"],\n",
    "    'Day': sorted_day_simulations[0][0][\"Day\"],\n",
    "    'Night': {'Station_1': 13, 'Station_2': 13, 'Station_3': 14}\n",
    "}"
   ]
  },
  {
   "cell_type": "code",
   "execution_count": 39,
   "id": "94aed7cf-34b7-4dfa-be20-5d13bdbea31d",
   "metadata": {},
   "outputs": [
    {
     "ename": "KeyboardInterrupt",
     "evalue": "",
     "output_type": "error",
     "traceback": [
      "\u001b[0;31m---------------------------------------------------------------------------\u001b[0m",
      "\u001b[0;31mKeyboardInterrupt\u001b[0m                         Traceback (most recent call last)",
      "Cell \u001b[0;32mIn[39], line 11\u001b[0m\n\u001b[1;32m      8\u001b[0m greedy_model \u001b[38;5;241m=\u001b[39m GreedyModel(new_shift_distribution, police_stations_dict)\n\u001b[1;32m     10\u001b[0m simulation \u001b[38;5;241m=\u001b[39m SimulationWithMaxUtilisation(data, ps_coords, new_shift_distribution, verbose\u001b[38;5;241m=\u001b[39m\u001b[38;5;241m1\u001b[39m)\n\u001b[0;32m---> 11\u001b[0m \u001b[43msimulation\u001b[49m\u001b[38;5;241;43m.\u001b[39;49m\u001b[43mrun\u001b[49m\u001b[43m(\u001b[49m\u001b[43mgreedy_model\u001b[49m\u001b[43m)\u001b[49m\n\u001b[1;32m     13\u001b[0m res \u001b[38;5;241m=\u001b[39m simulation\u001b[38;5;241m.\u001b[39manalyze_simulation_results()\n\u001b[1;32m     14\u001b[0m result \u001b[38;5;241m=\u001b[39m calculate_simulation_performance(res)\n",
      "File \u001b[0;32m~/Desktop/EdinburghChallenge/edinburgh-challenge/edinburgh_challenge/simulation.py:463\u001b[0m, in \u001b[0;36mSimulationWithMaxUtilisation.run\u001b[0;34m(self, model)\u001b[0m\n\u001b[1;32m    461\u001b[0m     allocations \u001b[38;5;241m=\u001b[39m model\u001b[38;5;241m.\u001b[39mmake_allocation(pending_incidents, \u001b[38;5;28mself\u001b[39m\u001b[38;5;241m.\u001b[39mofficers, \u001b[38;5;28mself\u001b[39m\u001b[38;5;241m.\u001b[39mcurrent_time)\n\u001b[1;32m    462\u001b[0m     \u001b[38;5;66;03m# Process allocations and update the state\u001b[39;00m\n\u001b[0;32m--> 463\u001b[0m     \u001b[38;5;28;43mself\u001b[39;49m\u001b[38;5;241;43m.\u001b[39;49m\u001b[43mprocess_allocations\u001b[49m\u001b[43m(\u001b[49m\u001b[43mallocations\u001b[49m\u001b[43m)\u001b[49m\n\u001b[1;32m    464\u001b[0m     \u001b[38;5;28mself\u001b[39m\u001b[38;5;241m.\u001b[39mreturn_times\u001b[38;5;241m.\u001b[39mremove(time)\n\u001b[1;32m    468\u001b[0m \u001b[38;5;28;01mif\u001b[39;00m \u001b[38;5;28mself\u001b[39m\u001b[38;5;241m.\u001b[39mverbose \u001b[38;5;241m>\u001b[39m \u001b[38;5;241m2\u001b[39m:\n",
      "File \u001b[0;32m~/Desktop/EdinburghChallenge/edinburgh-challenge/edinburgh_challenge/simulation.py:385\u001b[0m, in \u001b[0;36mSimulationWithMaxUtilisation.process_allocations\u001b[0;34m(self, allocations)\u001b[0m\n\u001b[1;32m    381\u001b[0m \u001b[38;5;28;01mdef\u001b[39;00m \u001b[38;5;21mprocess_allocations\u001b[39m(\u001b[38;5;28mself\u001b[39m, allocations):\n\u001b[1;32m    382\u001b[0m     \u001b[38;5;66;03m#if self.verbose > 0:\u001b[39;00m\n\u001b[1;32m    383\u001b[0m         \u001b[38;5;66;03m#print(f\"{allocations=}\")\u001b[39;00m\n\u001b[1;32m    384\u001b[0m     \u001b[38;5;28;01mfor\u001b[39;00m urn, officer_id \u001b[38;5;129;01min\u001b[39;00m allocations\u001b[38;5;241m.\u001b[39mitems():\n\u001b[0;32m--> 385\u001b[0m         incident \u001b[38;5;241m=\u001b[39m \u001b[38;5;28mnext\u001b[39m((inc \u001b[38;5;28;01mfor\u001b[39;00m inc \u001b[38;5;129;01min\u001b[39;00m \u001b[38;5;28mself\u001b[39m\u001b[38;5;241m.\u001b[39mcumulative_incidents \u001b[38;5;28;01mif\u001b[39;00m inc\u001b[38;5;241m.\u001b[39murn \u001b[38;5;241m==\u001b[39m urn), \u001b[38;5;28;01mNone\u001b[39;00m)\n\u001b[1;32m    386\u001b[0m         \u001b[38;5;66;03m#print(\"incident:\", incident)\u001b[39;00m\n\u001b[1;32m    387\u001b[0m         \u001b[38;5;28;01mif\u001b[39;00m officer_id \u001b[38;5;129;01mis\u001b[39;00m \u001b[38;5;28;01mNone\u001b[39;00m:\n",
      "File \u001b[0;32m~/Desktop/EdinburghChallenge/edinburgh-challenge/edinburgh_challenge/simulation.py:385\u001b[0m, in \u001b[0;36m<genexpr>\u001b[0;34m(.0)\u001b[0m\n\u001b[1;32m    381\u001b[0m \u001b[38;5;28;01mdef\u001b[39;00m \u001b[38;5;21mprocess_allocations\u001b[39m(\u001b[38;5;28mself\u001b[39m, allocations):\n\u001b[1;32m    382\u001b[0m     \u001b[38;5;66;03m#if self.verbose > 0:\u001b[39;00m\n\u001b[1;32m    383\u001b[0m         \u001b[38;5;66;03m#print(f\"{allocations=}\")\u001b[39;00m\n\u001b[1;32m    384\u001b[0m     \u001b[38;5;28;01mfor\u001b[39;00m urn, officer_id \u001b[38;5;129;01min\u001b[39;00m allocations\u001b[38;5;241m.\u001b[39mitems():\n\u001b[0;32m--> 385\u001b[0m         incident \u001b[38;5;241m=\u001b[39m \u001b[38;5;28mnext\u001b[39m((inc \u001b[38;5;28;01mfor\u001b[39;00m inc \u001b[38;5;129;01min\u001b[39;00m \u001b[38;5;28mself\u001b[39m\u001b[38;5;241m.\u001b[39mcumulative_incidents \u001b[38;5;28;01mif\u001b[39;00m \u001b[43minc\u001b[49m\u001b[38;5;241;43m.\u001b[39;49m\u001b[43murn\u001b[49m\u001b[43m \u001b[49m\u001b[38;5;241;43m==\u001b[39;49m\u001b[43m \u001b[49m\u001b[43murn\u001b[49m), \u001b[38;5;28;01mNone\u001b[39;00m)\n\u001b[1;32m    386\u001b[0m         \u001b[38;5;66;03m#print(\"incident:\", incident)\u001b[39;00m\n\u001b[1;32m    387\u001b[0m         \u001b[38;5;28;01mif\u001b[39;00m officer_id \u001b[38;5;129;01mis\u001b[39;00m \u001b[38;5;28;01mNone\u001b[39;00m:\n",
      "\u001b[0;31mKeyboardInterrupt\u001b[0m: "
     ]
    }
   ],
   "source": [
    "early_shift_dist = generate_early_shift_distributions(n_night)\n",
    "simulation_results = []\n",
    "for dist in early_shift_dist:\n",
    "    \n",
    "    new_shift_distribution = dict(shift_distribution)\n",
    "    new_shift_distribution[\"Night\"] = {'Station_1': dist[0], 'Station_2': dist[1], 'Station_3': dist[2]}\n",
    "    \n",
    "    greedy_model = GreedyModel(new_shift_distribution, police_stations_dict)\n",
    "    \n",
    "    simulation = SimulationWithMaxUtilisation(data, ps_coords, new_shift_distribution, verbose=1)\n",
    "    simulation.run(greedy_model)\n",
    "    \n",
    "    res = simulation.analyze_simulation_results()\n",
    "    result = calculate_simulation_performance(res)\n",
    "    simulation_results.append((new_shift_distribution, result))"
   ]
  },
  {
   "cell_type": "code",
   "execution_count": null,
   "id": "a637a7b0-1108-44f7-8c40-bdcc00da63fa",
   "metadata": {},
   "outputs": [],
   "source": [
    "sorted_night_simulations = sorted(simulation_results, reverse=True, key=lambda x: x[1])\n",
    "sorted_night_simulations[0:4]"
   ]
  },
  {
   "cell_type": "code",
   "execution_count": null,
   "id": "810ddc5b-abb8-4136-b51b-5287218fd46a",
   "metadata": {},
   "outputs": [],
   "source": []
  },
  {
   "cell_type": "markdown",
   "id": "f5fd0002-51cc-483b-bc93-d2dd5a1737d3",
   "metadata": {},
   "source": [
    "## With less number of people"
   ]
  },
  {
   "cell_type": "code",
   "execution_count": 126,
   "id": "055f8a90-f8a5-4976-96cf-fda8a235cf33",
   "metadata": {},
   "outputs": [],
   "source": [
    "shift_distribution = {\n",
    "    'Early': {'Station_1': 6, 'Station_2': 6, 'Station_3':6}, # 18\n",
    "    'Day': {'Station_1': 7, 'Station_2': 8, 'Station_3': 7}, # 22\n",
    "    'Night': {'Station_1': 11, 'Station_2': 12, 'Station_3': 10} # 33\n",
    "}\n",
    "\n",
    "ps_coords = [ (p.x, p.y) for p in \n",
    "                [police_stations.one, \n",
    "                 police_stations.two, \n",
    "                 police_stations.three]]\n",
    "\n",
    "greedy_model = GreedyModel(shift_distribution, police_stations_dict)\n",
    "simulation = SimulationWithMaxUtilisation(data, ps_coords, shift_distribution, \n",
    "                        verbose=0)"
   ]
  },
  {
   "cell_type": "code",
   "execution_count": 127,
   "id": "3d3d635c-a870-49ca-86e8-2138329b92c2",
   "metadata": {},
   "outputs": [
    {
     "name": "stdout",
     "output_type": "stream",
     "text": [
      "incident_within_threshold=1.0\n",
      "officer_utilisation=1.1969662790830178\n",
      "unresolved_incidents=0.0\n",
      "1.0393932558166037\n",
      "{'Completion Percentages': {'Immediate': 100.0, 'Prompt': 100.0, 'Standard': 100.0}, 'Mean Response Times': {'Immediate': 88.37996655069803, 'Prompt': 84.7893295720183, 'Standard': 89.0535899465376}, 'Mean Deployment Times': {'Immediate': 1.5403225806451613, 'Prompt': 1.5061196105702366, 'Standard': 1.4796755725190842}, 'Threshold Compliance': {'Immediate': 100.0, 'Prompt': 100.0, 'Standard': 100.0}, 'Mean Officer Hours': 68.22707790773201, 'Unresolved Incident Percentage': 0.0}\n"
     ]
    }
   ],
   "source": [
    "simulation.run(greedy_model)\n",
    "print(calculate_simulation_performance(simulation.analyze_simulation_results(), verbose=True))\n",
    "print(simulation.analyze_simulation_results())"
   ]
  },
  {
   "cell_type": "code",
   "execution_count": null,
   "id": "2f6e7fa6-781a-4fc6-8db6-8e05cd2d217e",
   "metadata": {},
   "outputs": [],
   "source": []
  },
  {
   "cell_type": "code",
   "execution_count": 86,
   "id": "717b8f1e-bc50-4483-b796-e4f4b620eb92",
   "metadata": {},
   "outputs": [
    {
     "data": {
      "text/plain": [
       "[]"
      ]
     },
     "execution_count": 86,
     "metadata": {},
     "output_type": "execute_result"
    }
   ],
   "source": [
    "[inc for inc in simulation.cumulative_incidents if not inc.resolved]"
   ]
  },
  {
   "cell_type": "code",
   "execution_count": 122,
   "id": "0872a8a6-aa54-4b47-998c-dc9ee91fa0a5",
   "metadata": {},
   "outputs": [],
   "source": [
    "def time_to_hour(t):\n",
    "    h = (t % 24)\n",
    "    return np.ceil(h)"
   ]
  },
  {
   "cell_type": "code",
   "execution_count": 125,
   "id": "6c24790e-c85f-4a57-a671-93f242d433de",
   "metadata": {},
   "outputs": [
    {
     "data": {
      "text/plain": [
       "array([ 1.,  2.,  3.,  4.,  5.,  6.,  7.,  8.,  9., 10., 11.])"
      ]
     },
     "execution_count": 125,
     "metadata": {},
     "output_type": "execute_result"
    }
   ],
   "source": [
    "np.unique([time_to_hour(inc.resolution_time) for inc in simulation.cumulative_incidents if \"Early\" in inc.resolving_officer])"
   ]
  },
  {
   "cell_type": "code",
   "execution_count": 101,
   "id": "c5f0c5ae-4850-4620-b6c4-48d7aae89eb6",
   "metadata": {},
   "outputs": [
    {
     "data": {
      "text/plain": [
       "6"
      ]
     },
     "execution_count": 101,
     "metadata": {},
     "output_type": "execute_result"
    }
   ],
   "source": [
    "158 // 24"
   ]
  },
  {
   "cell_type": "code",
   "execution_count": 107,
   "id": "b1d37e8d-a86a-4f42-8790-e0eff0249ec7",
   "metadata": {},
   "outputs": [
    {
     "data": {
      "text/plain": [
       "<Axes: ylabel='Count'>"
      ]
     },
     "execution_count": 107,
     "metadata": {},
     "output_type": "execute_result"
    },
    {
     "data": {
      "image/png": "[encoded data removed]",
      "text/plain": [
       "<Figure size 640x480 with 1 Axes>"
      ]
     },
     "metadata": {},
     "output_type": "display_data"
    }
   ],
   "source": [
    "sns.histplot([inc.resolution_time for inc in simulation.cumulative_incidents], bins = 56)"
   ]
  },
  {
   "cell_type": "code",
   "execution_count": 106,
   "id": "e059047b-a69d-42cc-9832-617a74171565",
   "metadata": {},
   "outputs": [
    {
     "data": {
      "text/plain": [
       "56.0"
      ]
     },
     "execution_count": 106,
     "metadata": {},
     "output_type": "execute_result"
    }
   ],
   "source": [
    "7*24/3"
   ]
  },
  {
   "cell_type": "code",
   "execution_count": null,
   "id": "940af6b4-b153-4b41-a20e-3a2386e22ac1",
   "metadata": {},
   "outputs": [],
   "source": []
  },
  {
   "cell_type": "code",
   "execution_count": null,
   "id": "8b643d47-51c8-4786-91c7-623e6076ca28",
   "metadata": {},
   "outputs": [],
   "source": []
  }
 ],
 "metadata": {
  "kernelspec": {
   "display_name": "venv",
   "language": "python",
   "name": "venv"
  },
  "language_info": {
   "codemirror_mode": {
    "name": "ipython",
    "version": 3
   },
   "file_extension": ".py",
   "mimetype": "text/x-python",
   "name": "python",
   "nbconvert_exporter": "python",
   "pygments_lexer": "ipython3",
   "version": "3.11.0"
  }
 },
 "nbformat": 4,
 "nbformat_minor": 5
}
